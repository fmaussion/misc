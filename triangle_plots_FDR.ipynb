{
 "cells": [
  {
   "cell_type": "markdown",
   "metadata": {},
   "source": [
    "# On the use of \"triangle plots\" in trend analysis "
   ]
  },
  {
   "cell_type": "markdown",
   "metadata": {},
   "source": [
    "This is the code used to produce the plots presented here: http://fabienmaussion.info/2017/01/30/trendy-triangles-fdr/"
   ]
  },
  {
   "cell_type": "code",
   "execution_count": null,
   "metadata": {
    "collapsed": false
   },
   "outputs": [],
   "source": [
    "%matplotlib inline\n",
    "import pandas as pd\n",
    "import numpy as np\n",
    "import matplotlib.pyplot as plt\n",
    "import matplotlib.lines as mlines\n",
    "import seaborn as sns\n",
    "from scipy import stats\n",
    "# Some defaults\n",
    "cmap = plt.get_cmap('RdBu_r')\n",
    "sns.set_context('talk')\n",
    "sns.set_style('ticks')"
   ]
  },
  {
   "cell_type": "markdown",
   "metadata": {},
   "source": [
    "## The False Discovery Rate analysis"
   ]
  },
  {
   "cell_type": "markdown",
   "metadata": {},
   "source": [
    "Described first by [Benjamini and Hochberg (1995)](https://www.jstor.org/stable/2346101) and presented in a climatological context by [Wilks (2016)](http://journals.ametsoc.org/doi/pdf/10.1175/BAMS-D-15-00267.1), the FDR approach is straightforward to implement: \n",
    "\n",
    "$$p_{FDR} = max_{i=1,...,N} \\left[p_i : p_i \\le (i / N) \\alpha \\right]$$\n",
    "\n",
    "where $p_{FDR}$ is the threshold level that p-values should not exceed, $p_i$ the sorted p-values in the grid and $\\alpha$ the threshold chosen originally (0.05 in our previous examples)."
   ]
  },
  {
   "cell_type": "code",
   "execution_count": null,
   "metadata": {
    "collapsed": false
   },
   "outputs": [],
   "source": [
    "def fdr_threshold(pvalues, alpha=0.05):\n",
    "    \"\"\"Computes the FDR threshod after Wilks (2016).\n",
    "    \n",
    "    Parameters\n",
    "    ----------\n",
    "    pvalues : np.array\n",
    "        The pvalues of the grid.\n",
    "    alpha : float, default=0.05\n",
    "        The original threshold.\n",
    "    \n",
    "    Returns\n",
    "    -------\n",
    "    the threshold p-value\n",
    "    \"\"\"\n",
    "    p = np.sort(np.asarray(pvalues).flatten())\n",
    "    n = len(p)\n",
    "    return np.max(np.where(p <= (np.arange(1, n+1) / n * alpha), p, 0))"
   ]
  },
  {
   "cell_type": "code",
   "execution_count": null,
   "metadata": {
    "collapsed": true
   },
   "outputs": [],
   "source": [
    "def plot_fdr_threshold(pvalues, alpha=0.05):\n",
    "    \"\"\"Plots the FDR threshod after Wilks (2016).\"\"\"\n",
    "    p = np.sort(np.asarray(pvalues).flatten())\n",
    "    plt.plot(p, '.', color='C1')\n",
    "    plt.xlim(1, 6901);\n",
    "    plt.ylim(0, 0.07);\n",
    "    n = len(p)\n",
    "    plt.plot((np.arange(1, n+1) / n * alpha), linestyle='--', color='C2')\n",
    "    plt.axhline(0.05, linestyle='--', color='grey');\n",
    "    plt.annotate('$p$=0.05', (100, 0.051), color='grey')\n",
    "    if p_fdr > 0:\n",
    "        plt.axhline(p_fdr, linestyle='--', color='grey');\n",
    "        plt.annotate('$p_{FDR}$'+'={:.2}'.format(p_fdr), (100, p_fdr + 0.001), color='grey');\n",
    "    plt.legend(['sorted p-values', r'$p=0.05 \\frac{i}{N}$'], loc='best');\n",
    "    plt.xlabel('p-value rank, i')\n",
    "    plt.ylabel('Sorted p-values')\n",
    "    plt.tight_layout();"
   ]
  },
  {
   "cell_type": "markdown",
   "metadata": {},
   "source": [
    "## Real case: GISS global temperature data "
   ]
  },
  {
   "cell_type": "markdown",
   "metadata": {},
   "source": [
    "### Download"
   ]
  },
  {
   "cell_type": "markdown",
   "metadata": {},
   "source": [
    "Gistemp dataset: http://data.giss.nasa.gov/gistemp/"
   ]
  },
  {
   "cell_type": "code",
   "execution_count": null,
   "metadata": {
    "collapsed": false
   },
   "outputs": [],
   "source": [
    "# This just reads the data from the provided url\n",
    "import io, requests\n",
    "url = 'http://data.giss.nasa.gov/gistemp/tabledata_v3/GLB.Ts+dSST.csv'\n",
    "s = requests.get(url).content\n",
    "df = pd.read_csv(io.StringIO(s.decode('utf-8')), index_col=0, header=1)"
   ]
  },
  {
   "cell_type": "code",
   "execution_count": null,
   "metadata": {
    "collapsed": false
   },
   "outputs": [],
   "source": [
    "# for today we'll concentrate on annual averages\n",
    "ts = df['J-D'].loc[1880:2015].astype('float') "
   ]
  },
  {
   "cell_type": "code",
   "execution_count": null,
   "metadata": {
    "collapsed": false
   },
   "outputs": [],
   "source": [
    "ax = ts.plot(figsize=(9, 5));\n",
    "ax.set_ylabel('Temp anomaly to 1951-1980 [°C]');\n",
    "plt.tight_layout()\n",
    "plt.savefig('ts_giss.png', dpi=150)"
   ]
  },
  {
   "cell_type": "markdown",
   "metadata": {},
   "source": [
    "### Trend analysis "
   ]
  },
  {
   "cell_type": "code",
   "execution_count": null,
   "metadata": {
    "collapsed": false
   },
   "outputs": [],
   "source": [
    "# the trend are computed on time series at least 20yrs long\n",
    "start_years = ts.index[:-20]\n",
    "end_years = ts.index[20:]\n",
    "ny = len(start_years)\n",
    "extent = (start_years[0], start_years[-1], end_years[0], end_years[-1])  # needed for the plot later"
   ]
  },
  {
   "cell_type": "code",
   "execution_count": null,
   "metadata": {
    "collapsed": false
   },
   "outputs": [],
   "source": [
    "# fill the triangle\n",
    "trend = np.zeros((ny, ny)) * np.NaN\n",
    "sig = np.ones((ny, ny)) \n",
    "for i, start_year in enumerate(start_years):\n",
    "    for j, end_year in enumerate(end_years):\n",
    "        data = ts.loc[start_year:end_year]\n",
    "        if len(data) < 20:\n",
    "            continue\n",
    "        slope, _, _, p_val, _ = stats.linregress(data.index, data.values)\n",
    "        trend[j, i] = slope * 10  # for decadal trends\n",
    "        sig[j, i] = p_val"
   ]
  },
  {
   "cell_type": "markdown",
   "metadata": {},
   "source": [
    "### FDR threshold "
   ]
  },
  {
   "cell_type": "markdown",
   "metadata": {},
   "source": [
    "Let's see what we get as new threshold in this case:"
   ]
  },
  {
   "cell_type": "code",
   "execution_count": null,
   "metadata": {
    "collapsed": false
   },
   "outputs": [],
   "source": [
    "# keep only our triangle, not the full square\n",
    "p_fdr = fdr_threshold(sig[np.isfinite(trend)])\n",
    "print('Our new threshold is {:.2}'.format(p_fdr))"
   ]
  },
  {
   "cell_type": "markdown",
   "metadata": {},
   "source": [
    "So indeed less than the original 0.05."
   ]
  },
  {
   "cell_type": "code",
   "execution_count": null,
   "metadata": {
    "collapsed": false
   },
   "outputs": [],
   "source": [
    "plot_fdr_threshold(sig[np.isfinite(trend)])\n",
    "plt.savefig('pfdr_giss.png', dpi=150)"
   ]
  },
  {
   "cell_type": "code",
   "execution_count": null,
   "metadata": {
    "collapsed": false
   },
   "outputs": [],
   "source": [
    "# plot\n",
    "plt.figure(figsize=(7, 5))\n",
    "im = plt.imshow(trend, extent=extent, interpolation='none', origin='lower', cmap=cmap, vmin=-0.2, vmax=0.2)\n",
    "c1 = plt.contour(start_years, end_years, sig < 0.05, linewidths=1)\n",
    "c2 = plt.contour(start_years, end_years, sig < p_fdr, linewidths=2)\n",
    "plt.colorbar(im, extend='both');\n",
    "plt.title('Trend [°C per decade]');\n",
    "plt.xlabel('Start year');\n",
    "plt.ylabel('End year');\n",
    "handles = [mlines.Line2D([], [], color='k', linewidth=1, label='$p$=0.05'), \n",
    "           mlines.Line2D([], [], color='k', linewidth=2, label='$p_{fdr}$=' + '{:.2}'.format(p_fdr))]\n",
    "plt.legend(handles=handles, loc='lower right')\n",
    "plt.tight_layout()\n",
    "plt.savefig('triangle_giss_fdr.png', dpi=150)"
   ]
  },
  {
   "cell_type": "code",
   "execution_count": null,
   "metadata": {
    "collapsed": false
   },
   "outputs": [],
   "source": [
    "print('{:.1%} of the triangle has a significant trend at 0.05.'.format(np.sum(sig <= 0.05) / np.sum(np.isfinite(trend))))\n",
    "print('{:.1%} of the triangle has a significant trend at p_fdr.'.format(np.sum(sig <= p_fdr) / np.sum(np.isfinite(trend))))"
   ]
  },
  {
   "cell_type": "markdown",
   "metadata": {},
   "source": [
    "## Random case "
   ]
  },
  {
   "cell_type": "markdown",
   "metadata": {},
   "source": [
    "We make a fake global temperature timeseries which has the same variance as the real one. We assume normality (which is far from reality...):"
   ]
  },
  {
   "cell_type": "code",
   "execution_count": null,
   "metadata": {
    "collapsed": false
   },
   "outputs": [],
   "source": [
    "np.random.seed(12)  # for reproducible results\n",
    "fake_ts = pd.Series(np.random.normal(0., np.std(ts), len(ts)), index=ts.index)\n",
    "ax = fake_ts.plot(figsize=(9, 5));\n",
    "ax.set_ylabel('A random timeseries');\n",
    "plt.tight_layout()\n",
    "plt.savefig('ts_random.png', dpi=150)"
   ]
  },
  {
   "cell_type": "code",
   "execution_count": null,
   "metadata": {
    "collapsed": false
   },
   "outputs": [],
   "source": [
    "trend = np.zeros((ny, ny)) * np.NaN\n",
    "sig = np.ones((ny, ny))\n",
    "for i, start_year in enumerate(start_years):\n",
    "    for j, end_year in enumerate(end_years):\n",
    "        data = fake_ts.loc[start_year:end_year]\n",
    "        if len(data) < 20:\n",
    "            continue\n",
    "        slope, _, _, p_val, _ = stats.linregress(data.index, data.values)\n",
    "        trend[j, i] = slope * 10  # for decadal trends\n",
    "        sig[j, i] = p_val"
   ]
  },
  {
   "cell_type": "code",
   "execution_count": null,
   "metadata": {
    "collapsed": false
   },
   "outputs": [],
   "source": [
    "# keep only our triangle, not the full square\n",
    "p_fdr = fdr_threshold(sig[np.isfinite(trend)])\n",
    "print('Our new threshold is {:.2}'.format(p_fdr))"
   ]
  },
  {
   "cell_type": "code",
   "execution_count": null,
   "metadata": {
    "collapsed": false
   },
   "outputs": [],
   "source": [
    "plot_fdr_threshold(sig[np.isfinite(trend)])\n",
    "plt.xlim(0, 500)\n",
    "plt.savefig('pfdr_random_a.png', dpi=150)"
   ]
  },
  {
   "cell_type": "code",
   "execution_count": null,
   "metadata": {
    "collapsed": false
   },
   "outputs": [],
   "source": [
    "print('{:.1%} of the triangle has a significant trend at 0.05.'.format(np.sum(sig <= 0.05) / np.sum(np.isfinite(trend))))\n",
    "print('{:.1%} of the triangle has a significant trend at p_fdr.'.format(np.sum(sig <= p_fdr) / np.sum(np.isfinite(trend))))"
   ]
  },
  {
   "cell_type": "markdown",
   "metadata": {},
   "source": [
    "### \"Extreme\" example: "
   ]
  },
  {
   "cell_type": "code",
   "execution_count": null,
   "metadata": {
    "collapsed": false
   },
   "outputs": [],
   "source": [
    "np.random.seed(0)  # for reproducible results\n",
    "fake_ts = pd.Series(np.random.normal(0., np.std(ts), len(ts)), index=ts.index)\n",
    "trend = np.zeros((ny, ny)) * np.NaN\n",
    "sig = np.ones((ny, ny))\n",
    "for i, start_year in enumerate(start_years):\n",
    "    for j, end_year in enumerate(end_years):\n",
    "        data = fake_ts.loc[start_year:end_year]\n",
    "        if len(data) < 20:\n",
    "            continue\n",
    "        slope, _, _, p_val, _ = stats.linregress(data.index, data.values)\n",
    "        trend[j, i] = slope * 10  # for decadal trends\n",
    "        sig[j, i] = p_val\n",
    "# keep only our triangle, not the full square\n",
    "p_fdr = fdr_threshold(sig[np.isfinite(trend)])\n",
    "print('Our new threshold is {:.2}'.format(p_fdr))\n",
    "# plot\n",
    "plt.figure(figsize=(7, 5))\n",
    "im = plt.imshow(trend, extent=extent, interpolation='none', origin='lower', cmap=cmap, vmin=-0.2, vmax=0.2)\n",
    "c1 = plt.contour(start_years, end_years, sig < 0.05, linewidths=1)\n",
    "c2 = plt.contour(start_years, end_years, sig < p_fdr, linewidths=3)\n",
    "plt.colorbar(im, extend='both');\n",
    "plt.title('Trend [°C per decade]');\n",
    "plt.xlabel('Start year');\n",
    "plt.ylabel('End year');\n",
    "handles = [mlines.Line2D([], [], color='k', linewidth=1, label='$p$=0.05'), \n",
    "           mlines.Line2D([], [], color='k', linewidth=3, label='$p_{fdr}$=' + '{:.2}'.format(p_fdr))]\n",
    "plt.legend(handles=handles, loc='lower right')\n",
    "plt.tight_layout()\n",
    "print('{:.1%} of the triangle has a significant trend at 0.05.'.format(np.sum(sig <= 0.05) / np.sum(np.isfinite(trend))))\n",
    "print('{:.1%} of the triangle has a significant trend at p_fdr.'.format(np.sum(sig <= p_fdr) / np.sum(np.isfinite(trend))))\n",
    "plt.savefig('triangle_random_fdr.png', dpi=150)"
   ]
  },
  {
   "cell_type": "code",
   "execution_count": null,
   "metadata": {
    "collapsed": false
   },
   "outputs": [],
   "source": [
    "plot_fdr_threshold(sig[np.isfinite(trend)])\n",
    "plt.xlim(0, 3000)\n",
    "plt.savefig('pfdr_random_b.png', dpi=150)"
   ]
  },
  {
   "cell_type": "code",
   "execution_count": null,
   "metadata": {
    "collapsed": true
   },
   "outputs": [],
   "source": []
  }
 ],
 "metadata": {
  "kernelspec": {
   "display_name": "Python 3",
   "language": "python",
   "name": "python3"
  },
  "language_info": {
   "codemirror_mode": {
    "name": "ipython",
    "version": 3
   },
   "file_extension": ".py",
   "mimetype": "text/x-python",
   "name": "python",
   "nbconvert_exporter": "python",
   "pygments_lexer": "ipython3",
   "version": "3.4.3"
  }
 },
 "nbformat": 4,
 "nbformat_minor": 0
}
