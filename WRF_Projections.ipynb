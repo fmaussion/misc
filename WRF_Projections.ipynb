{
 "cells": [
  {
   "cell_type": "code",
   "execution_count": null,
   "metadata": {},
   "outputs": [],
   "source": [
    "%matplotlib inline\n",
    "import salem\n",
    "import xarray as xr\n",
    "import matplotlib.pyplot as plt\n",
    "import numpy as np"
   ]
  },
  {
   "cell_type": "code",
   "execution_count": null,
   "metadata": {},
   "outputs": [],
   "source": [
    "import cartopy\n",
    "import cartopy.crs as ccrs"
   ]
  },
  {
   "cell_type": "code",
   "execution_count": null,
   "metadata": {},
   "outputs": [],
   "source": [
    "cd '/home/mowglie/disk/Data/WRF/wrf_proj_blog/'"
   ]
  },
  {
   "cell_type": "code",
   "execution_count": null,
   "metadata": {},
   "outputs": [],
   "source": [
    "ds = salem.open_wrf_dataset('geo_em.d01.nc')\n",
    "ds.HGT_M.where(ds.LANDMASK).salem.quick_map(cmap='topo');\n",
    "plt.savefig('topo_dom.png', dpi=150, bbox_inches='tight')"
   ]
  },
  {
   "cell_type": "code",
   "execution_count": null,
   "metadata": {},
   "outputs": [],
   "source": [
    "import pyproj\n",
    "wrf_proj = pyproj.Proj(proj='lcc', # projection type: Lambert Conformal Conic\n",
    "                       lat_1=ds.TRUELAT1, lat_2=ds.TRUELAT2, # Cone intersects with the sphere\n",
    "                       lat_0=ds.MOAD_CEN_LAT, lon_0=ds.STAND_LON, # Center point\n",
    "                       a=6370000, b=6370000) # This is it! The Earth is a perfect sphere"
   ]
  },
  {
   "cell_type": "code",
   "execution_count": null,
   "metadata": {},
   "outputs": [],
   "source": [
    "# Easting and Northings of the domains center point\n",
    "wgs_proj = pyproj.Proj(proj='latlong', datum='WGS84')\n",
    "e, n = pyproj.transform(wgs_proj, wrf_proj, ds.CEN_LON, ds.CEN_LAT)\n",
    "# Grid parameters\n",
    "dx = ds.DX\n",
    "dy = ds.DY\n",
    "nx = ds.dims['west_east']\n",
    "ny = ds.dims['south_north']\n",
    "# Down left corner of the domain\n",
    "x0 = -(nx-1) / 2. * dx + e  # DL corner\n",
    "y0 = -(ny-1) / 2. * dy + n  # DL corner\n",
    "# 2d grid\n",
    "xx, yy = np.meshgrid(np.arange(nx) * dx + x0, np.arange(ny) * dy + y0)"
   ]
  },
  {
   "cell_type": "code",
   "execution_count": null,
   "metadata": {},
   "outputs": [],
   "source": [
    "our_lons, our_lats = pyproj.transform(wrf_proj, wgs_proj, xx, yy)\n",
    "ds['DIFF'] = np.sqrt((our_lons - ds.XLONG_M)**2 + (our_lats - ds.XLAT_M)**2)\n",
    "ds.salem.quick_map('DIFF', cmap='Reds');\n",
    "plt.savefig('diff_correct.png', dpi=150, bbox_inches='tight')"
   ]
  },
  {
   "cell_type": "code",
   "execution_count": null,
   "metadata": {},
   "outputs": [],
   "source": [
    "bad_proj = pyproj.Proj(proj='lcc', # projection type: Lambert Conformal Conic\n",
    "                       lat_1=ds.TRUELAT1, lat_2=ds.TRUELAT2, # Cone intersects with the sphere\n",
    "                       lat_0=ds.MOAD_CEN_LAT, lon_0=ds.STAND_LON, # Center point\n",
    "                       ) # The Earth is now an ellipsoid"
   ]
  },
  {
   "cell_type": "code",
   "execution_count": null,
   "metadata": {
    "scrolled": true
   },
   "outputs": [],
   "source": [
    "bad_lons, bad_lats = pyproj.transform(bad_proj, wgs_proj, xx, yy)\n",
    "ds['DIFF2'] = np.sqrt((bad_lons - ds.XLONG_M)**2 + (bad_lats - ds.XLAT_M)**2)\n",
    "print('The max diff is: {}'.format(ds['DIFF2'].max().values))"
   ]
  },
  {
   "cell_type": "code",
   "execution_count": null,
   "metadata": {},
   "outputs": [],
   "source": [
    "bad_xx, bad_yy = pyproj.transform(wgs_proj, bad_proj, ds.XLONG_M.values, ds.XLAT_M.values)\n",
    "ds['DIFF_M'] = np.sqrt((bad_xx - xx)**2 + (bad_yy - yy)**2) + ds.XLONG_M*0 # trick\n",
    "ds.salem.quick_map('DIFF_M', cmap='Reds');\n",
    "plt.savefig('diff_meters.png', dpi=150, bbox_inches='tight')"
   ]
  },
  {
   "cell_type": "code",
   "execution_count": null,
   "metadata": {},
   "outputs": [],
   "source": [
    "import cartopy\n",
    "import cartopy.crs as ccrs\n",
    "# Define the projection\n",
    "globe = ccrs.Globe(ellipse='sphere', semimajor_axis=6370000, semiminor_axis=6370000)\n",
    "lcc = ccrs.LambertConformal(globe=globe, # important!\n",
    "                            central_longitude=ds.STAND_LON, central_latitude=ds.MOAD_CEN_LAT,\n",
    "                            standard_parallels=(ds.TRUELAT1, ds.TRUELAT2),\n",
    "                            )\n",
    "ax = plt.axes(projection=lcc)\n",
    "z = ds.HGT_M.where(ds.LANDMASK).clip(0)\n",
    "z.plot(ax=ax, transform=lcc, cmap='terrain');\n",
    "ax.coastlines()\n",
    "ax.add_feature(cartopy.feature.BORDERS, linestyle='-');\n",
    "ax.set_extent([xx.min(), xx.max(), yy.min(), yy.max()], crs=lcc)\n",
    "plt.savefig('cartopy_good.png', dpi=150, bbox_inches='tight')"
   ]
  },
  {
   "cell_type": "code",
   "execution_count": null,
   "metadata": {},
   "outputs": [],
   "source": []
  }
 ],
 "metadata": {
  "hide_input": false,
  "kernelspec": {
   "display_name": "Python 3",
   "language": "python",
   "name": "python3"
  },
  "language_info": {
   "codemirror_mode": {
    "name": "ipython",
    "version": 3
   },
   "file_extension": ".py",
   "mimetype": "text/x-python",
   "name": "python",
   "nbconvert_exporter": "python",
   "pygments_lexer": "ipython3",
   "version": "3.5.2"
  }
 },
 "nbformat": 4,
 "nbformat_minor": 2
}
